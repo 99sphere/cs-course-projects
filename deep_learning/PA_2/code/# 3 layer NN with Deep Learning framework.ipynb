{
 "cells": [
  {
   "cell_type": "markdown",
   "metadata": {},
   "source": [
    "# 3 layer NN with Deep Learning framework"
   ]
  },
  {
   "cell_type": "code",
   "execution_count": 68,
   "metadata": {},
   "outputs": [],
   "source": [
    "import os\n",
    "import tensorflow as tf\n",
    "import datetime\n",
    "import numpy as np\n",
    "import cv2\n",
    "from tensorflow.keras import datasets, layers, models\n",
    "from tensorflow import keras\n",
    "%matplotlib inline\n",
    "from matplotlib import pyplot as plt"
   ]
  },
  {
   "cell_type": "code",
   "execution_count": 69,
   "metadata": {},
   "outputs": [],
   "source": [
    "(train_images, train_labels), (test_images, test_labels) = datasets.mnist.load_data()\n",
    "train_images, test_images = train_images / 255.0, test_images / 255.0"
   ]
  },
  {
   "cell_type": "code",
   "execution_count": 70,
   "metadata": {},
   "outputs": [],
   "source": [
    "model = models.Sequential()\n",
    "model.add(layers.Flatten(input_shape=(28, 28)))\n",
    "model.add(layers.Dense(64, activation='relu', input_shape=(784, 1)))\n",
    "model.add(layers.Dense(64, activation='relu'))\n",
    "model.add(layers.Dense(10, activation='softmax'))"
   ]
  },
  {
   "cell_type": "code",
   "execution_count": 71,
   "metadata": {
    "scrolled": true
   },
   "outputs": [
    {
     "name": "stdout",
     "output_type": "stream",
     "text": [
      "Model: \"sequential_12\"\n",
      "_________________________________________________________________\n",
      "Layer (type)                 Output Shape              Param #   \n",
      "=================================================================\n",
      "flatten_3 (Flatten)          (None, 784)               0         \n",
      "_________________________________________________________________\n",
      "dense_26 (Dense)             (None, 64)                50240     \n",
      "_________________________________________________________________\n",
      "dense_27 (Dense)             (None, 64)                4160      \n",
      "_________________________________________________________________\n",
      "dense_28 (Dense)             (None, 10)                650       \n",
      "=================================================================\n",
      "Total params: 55,050\n",
      "Trainable params: 55,050\n",
      "Non-trainable params: 0\n",
      "_________________________________________________________________\n"
     ]
    }
   ],
   "source": [
    "model.summary()"
   ]
  },
  {
   "cell_type": "code",
   "execution_count": 72,
   "metadata": {},
   "outputs": [],
   "source": [
    "model.compile(optimizer='sgd', loss='sparse_categorical_crossentropy', metrics=['accuracy'])"
   ]
  },
  {
   "cell_type": "code",
   "execution_count": 54,
   "metadata": {},
   "outputs": [
    {
     "name": "stdout",
     "output_type": "stream",
     "text": [
      "Train on 60000 samples, validate on 10000 samples\n",
      "Epoch 1/5\n",
      "60000/60000 [==============================] - 10s 161us/sample - loss: 0.6874 - accuracy: 0.8136 - val_loss: 0.3263 - val_accuracy: 0.9066\n",
      "Epoch 2/5\n",
      "60000/60000 [==============================] - 9s 152us/sample - loss: 0.3000 - accuracy: 0.9143 - val_loss: 0.2601 - val_accuracy: 0.9243\n",
      "Epoch 3/5\n",
      "60000/60000 [==============================] - 10s 166us/sample - loss: 0.2483 - accuracy: 0.9285 - val_loss: 0.2266 - val_accuracy: 0.9334\n",
      "Epoch 4/5\n",
      "60000/60000 [==============================] - 10s 165us/sample - loss: 0.2161 - accuracy: 0.9371 - val_loss: 0.1979 - val_accuracy: 0.9422\n",
      "Epoch 5/5\n",
      "60000/60000 [==============================] - 10s 172us/sample - loss: 0.1925 - accuracy: 0.9442 - val_loss: 0.1836 - val_accuracy: 0.9461\n",
      "10000/10000 - 1s - loss: 0.1836 - accuracy: 0.9461\n"
     ]
    }
   ],
   "source": [
    "\"\"\"\n",
    "#log_dir = \"C:/Users/leegu/logs/2-layer_CNN-with-framework/\"+datetime.datetime.now().strftime(\"%Y%m%d-%H%M%S\")\n",
    "log_dir = \"C:/Users/leegu/logs/2-layer_NN/for_report\"\n",
    "\n",
    "try:\n",
    "    os.stat(log_dir)\n",
    "except:\n",
    "    os.mkdir(log_dir)\n",
    "\n",
    "tensorboard_callback = tf.keras.callbacks.TensorBoard(log_dir=log_dir, histogram_freq=1, profile_batch=100000000)\n",
    "model.fit(train_images,\n",
    "          train_labels,\n",
    "          epochs=5,\n",
    "          callbacks=[tensorboard_callback],\n",
    "          validation_data=(test_images, test_labels))\n",
    "test_loss, test_acc = model.evaluate(test_images,  test_labels, verbose=2)\n",
    "\"\"\""
   ]
  },
  {
   "cell_type": "code",
   "execution_count": 55,
   "metadata": {},
   "outputs": [],
   "source": [
    "#model.save_weights('./checkpoints/2-layer_from_PA1')"
   ]
  },
  {
   "cell_type": "code",
   "execution_count": 73,
   "metadata": {},
   "outputs": [
    {
     "name": "stdout",
     "output_type": "stream",
     "text": [
      "10000/10000 - 0s - loss: 0.1836 - accuracy: 0.9461\n"
     ]
    }
   ],
   "source": [
    "model.load_weights('./checkpoints/2-layer_from_PA1')\n",
    "loss,acc = model.evaluate(test_images,  test_labels, verbose=2)"
   ]
  },
  {
   "cell_type": "code",
   "execution_count": 74,
   "metadata": {},
   "outputs": [],
   "source": [
    "import io\n",
    "\n",
    "def plot_to_image(figure):\n",
    "    \"\"\"Converts the matplotlib plot specified by 'figure' to a PNG image and\n",
    "    returns it. The supplied figure is closed and inaccessible after this call.\"\"\"\n",
    "    # Save the plot to a PNG in memory.\n",
    "    buf = io.BytesIO()\n",
    "    plt.savefig(buf, format='png')\n",
    "    # Closing the figure prevents it from being displayed directly inside\n",
    "    # the notebook.\n",
    "    plt.close(figure)\n",
    "    buf.seek(0)\n",
    "    # Convert PNG buffer to TF image\n",
    "    image = tf.image.decode_png(buf.getvalue(), channels=4)\n",
    "    # Add the batch dimension\n",
    "    image = tf.expand_dims(image, 0)\n",
    "    return image"
   ]
  },
  {
   "cell_type": "markdown",
   "metadata": {},
   "source": [
    "## for Report"
   ]
  },
  {
   "cell_type": "code",
   "execution_count": 75,
   "metadata": {},
   "outputs": [],
   "source": [
    "import io\n",
    "\n",
    "def plot_to_image(figure):\n",
    "    \"\"\"Converts the matplotlib plot specified by 'figure' to a PNG image and\n",
    "    returns it. The supplied figure is closed and inaccessible after this call.\"\"\"\n",
    "    # Save the plot to a PNG in memory.\n",
    "    buf = io.BytesIO()\n",
    "    plt.savefig(buf, format='png')\n",
    "    # Closing the figure prevents it from being displayed directly inside\n",
    "    # the notebook.\n",
    "    plt.close(figure)\n",
    "    buf.seek(0)\n",
    "    # Convert PNG buffer to TF image\n",
    "    image = tf.image.decode_png(buf.getvalue(), channels=4)\n",
    "    # Add the batch dimension\n",
    "    image = tf.expand_dims(image, 0)\n",
    "    return image"
   ]
  },
  {
   "cell_type": "code",
   "execution_count": 80,
   "metadata": {},
   "outputs": [],
   "source": [
    "result = []\n",
    "for i in range(10):\n",
    "    result.append([])\n",
    "\n",
    "predict = model.predict(test_images)\n",
    "input_list = list(zip(test_images,test_labels))\n",
    "for i in range(len(test_images)):\n",
    "    if test_labels[i] == list(predict[i]).index(max(predict[i])):\n",
    "        result[test_labels[i]].append((i, round(max(predict[i]), 3)*100))\n",
    "\n",
    "for i in range(len(result)):\n",
    "    result[i].sort(key=lambda x:x[1])\n",
    "    \n",
    "\n",
    "def vis_top3_img_to_tensorboard(result, label):\n",
    "    best_idx, best_prob = result[label][-1]\n",
    "    second_idx, second_prob = result[label][-2]\n",
    "    third_idx, third_prob = result[label][-3]\n",
    "\n",
    "    log_dir = \"C:/Users/leegu/logs/2-layer_NN/for_report/images\"\n",
    "    file_writer = tf.summary.create_file_writer(log_dir)\n",
    "    \n",
    "    fig = plt.figure()\n",
    "\n",
    "    ax1 = fig.add_subplot(1, 3, 1)\n",
    "    ax1.imshow(test_images[best_idx], cmap=\"gray\")\n",
    "    ax1.set_title(str(round(best_prob,3)))\n",
    "    ax1.axis(\"off\")\n",
    "\n",
    "    ax2 = fig.add_subplot(1, 3, 2)\n",
    "    ax2.imshow(test_images[second_idx], cmap=\"gray\")\n",
    "    ax2.set_title(str(round(second_prob,3)))\n",
    "    ax2.axis(\"off\")\n",
    "\n",
    "    ax3 = fig.add_subplot(1, 3, 3)\n",
    "    ax3.imshow(test_images[third_idx], cmap=\"gray\")\n",
    "    ax3.set_title(str(round(third_prob,3)))\n",
    "    ax3.axis(\"off\")\n",
    "    plt.show()\n",
    "    \n",
    "    with file_writer.as_default():\n",
    "        tf.summary.image(\"Label:\"+str(label) +\", Prob List: \"+str([best_prob, second_prob, third_prob]), np.array([test_images[best_idx],test_images[second_idx],test_images[third_idx]]).reshape(3,28,28,1), step=0)\n",
    "        #tf.summary.image(\"Label:\"+str(label) +\", Second Prob: \"+str(second_prob), .reshape(-1,28,28,1), step=0)\n",
    "        #tf.summary.image(\"Label:\"+str(label) +\", Third Prob: \"+str(third_prob), test_images[third_idx].reshape(-1,28,28,1), step=0)"
   ]
  },
  {
   "cell_type": "code",
   "execution_count": 82,
   "metadata": {},
   "outputs": [
    {
     "data": {
      "image/png": "[encoded data removed]",
      "text/plain": [
       "<Figure size 432x288 with 3 Axes>"
      ]
     },
     "metadata": {
      "needs_background": "light"
     },
     "output_type": "display_data"
    },
    {
     "data": {
      "image/png": "[encoded data removed]",
      "text/plain": [
       "<Figure size 432x288 with 3 Axes>"
      ]
     },
     "metadata": {
      "needs_background": "light"
     },
     "output_type": "display_data"
    },
    {
     "data": {
      "image/png": "[encoded data removed]",
      "text/plain": [
       "<Figure size 432x288 with 3 Axes>"
      ]
     },
     "metadata": {
      "needs_background": "light"
     },
     "output_type": "display_data"
    },
    {
     "data": {
      "image/png": "[encoded data removed]",
      "text/plain": [
       "<Figure size 432x288 with 3 Axes>"
      ]
     },
     "metadata": {
      "needs_background": "light"
     },
     "output_type": "display_data"
    },
    {
     "data": {
      "image/png": "[encoded data removed]",
      "text/plain": [
       "<Figure size 432x288 with 3 Axes>"
      ]
     },
     "metadata": {
      "needs_background": "light"
     },
     "output_type": "display_data"
    },
    {
     "data": {
      "image/png": "[encoded data removed]",
      "text/plain": [
       "<Figure size 432x288 with 3 Axes>"
      ]
     },
     "metadata": {
      "needs_background": "light"
     },
     "output_type": "display_data"
    },
    {
     "data": {
      "image/png": "[encoded data removed]",
      "text/plain": [
       "<Figure size 432x288 with 3 Axes>"
      ]
     },
     "metadata": {
      "needs_background": "light"
     },
     "output_type": "display_data"
    },
    {
     "data": {
      "image/png": "[encoded data removed]",
      "text/plain": [
       "<Figure size 432x288 with 3 Axes>"
      ]
     },
     "metadata": {
      "needs_background": "light"
     },
     "output_type": "display_data"
    },
    {
     "data": {
      "image/png": "[encoded data removed]",
      "text/plain": [
       "<Figure size 432x288 with 3 Axes>"
      ]
     },
     "metadata": {
      "needs_background": "light"
     },
     "output_type": "display_data"
    },
    {
     "data": {
      "image/png": "[encoded data removed]",
      "text/plain": [
       "<Figure size 432x288 with 3 Axes>"
      ]
     },
     "metadata": {
      "needs_background": "light"
     },
     "output_type": "display_data"
    }
   ],
   "source": [
    "vis_top3_img_to_tensorboard(result, 0)\n",
    "vis_top3_img_to_tensorboard(result, 1)\n",
    "vis_top3_img_to_tensorboard(result, 2)\n",
    "vis_top3_img_to_tensorboard(result, 3)\n",
    "vis_top3_img_to_tensorboard(result, 4)\n",
    "vis_top3_img_to_tensorboard(result, 5)\n",
    "vis_top3_img_to_tensorboard(result, 6)\n",
    "vis_top3_img_to_tensorboard(result, 7)\n",
    "vis_top3_img_to_tensorboard(result, 8)\n",
    "vis_top3_img_to_tensorboard(result, 9)"
   ]
  },
  {
   "cell_type": "code",
   "execution_count": 67,
   "metadata": {},
   "outputs": [
    {
     "data": {
      "text/plain": [
       "<AxesSubplot:>"
      ]
     },
     "execution_count": 67,
     "metadata": {},
     "output_type": "execute_result"
    },
    {
     "data": {
      "image/png": "[encoded data removed]",
      "text/plain": [
       "<Figure size 432x288 with 2 Axes>"
      ]
     },
     "metadata": {
      "needs_background": "light"
     },
     "output_type": "display_data"
    }
   ],
   "source": [
    "from sklearn.metrics import confusion_matrix\n",
    "import seaborn as sn\n",
    "\n",
    "prob_list = model.predict(test_images)\n",
    "pred_list =[]\n",
    "for i in range(len(test_images)):\n",
    "    pred_list.append(list(prob_list[i]).index(max(prob_list[i])))\n",
    "\n",
    "result = confusion_matrix(pred_list, test_labels, normalize=\"pred\")\n",
    "sn.heatmap(result, annot=True, fmt='.2f', cmap=\"Blues\")"
   ]
  }
 ],
 "metadata": {
  "kernelspec": {
   "display_name": "Python 3",
   "language": "python",
   "name": "python3"
  },
  "language_info": {
   "codemirror_mode": {
    "name": "ipython",
    "version": 3
   },
   "file_extension": ".py",
   "mimetype": "text/x-python",
   "name": "python",
   "nbconvert_exporter": "python",
   "pygments_lexer": "ipython3",
   "version": "3.7.9"
  }
 },
 "nbformat": 4,
 "nbformat_minor": 4
}
