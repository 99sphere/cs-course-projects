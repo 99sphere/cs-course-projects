{
 "cells": [
  {
   "cell_type": "markdown",
   "metadata": {},
   "source": [
    "# 3 Layer CNN with Deep Learnig framework"
   ]
  },
  {
   "cell_type": "code",
   "execution_count": 2,
   "metadata": {},
   "outputs": [],
   "source": [
    "import os\n",
    "import datetime\n",
    "import tensorflow as tf\n",
    "import numpy as np\n",
    "import cv2\n",
    "import matplotlib.pyplot as plt\n",
    "from tensorflow.keras import datasets, layers, models"
   ]
  },
  {
   "cell_type": "code",
   "execution_count": 3,
   "metadata": {},
   "outputs": [],
   "source": [
    "(train_images, train_labels), (test_images, test_labels) = datasets.mnist.load_data()\n",
    "\n",
    "train_images = train_images.reshape((60000, 28, 28, 1))\n",
    "test_images = test_images.reshape((10000, 28, 28, 1))\n",
    "train_images, test_images = train_images / 255.0, test_images / 255.0"
   ]
  },
  {
   "cell_type": "code",
   "execution_count": 4,
   "metadata": {},
   "outputs": [],
   "source": [
    "model = models.Sequential()\n",
    "model.add(layers.Conv2D(10, (3, 3), activation='relu', input_shape=(28, 28, 1)))\n",
    "model.add(layers.MaxPooling2D((2, 2)))\n",
    "model.add(layers.Conv2D(10, (3, 3), activation='relu'))\n",
    "model.add(layers.MaxPooling2D((2, 2)))\n",
    "model.add(layers.Conv2D(10, (3, 3), activation='relu'))\n",
    "model.add(layers.MaxPooling2D((2, 2)))\n",
    "model.add(layers.Flatten())\n",
    "model.add(layers.Dense(10, activation='softmax'))"
   ]
  },
  {
   "cell_type": "code",
   "execution_count": 5,
   "metadata": {},
   "outputs": [
    {
     "name": "stdout",
     "output_type": "stream",
     "text": [
      "Model: \"sequential\"\n",
      "_________________________________________________________________\n",
      "Layer (type)                 Output Shape              Param #   \n",
      "=================================================================\n",
      "conv2d (Conv2D)              (None, 26, 26, 10)        100       \n",
      "_________________________________________________________________\n",
      "max_pooling2d (MaxPooling2D) (None, 13, 13, 10)        0         \n",
      "_________________________________________________________________\n",
      "conv2d_1 (Conv2D)            (None, 11, 11, 10)        910       \n",
      "_________________________________________________________________\n",
      "max_pooling2d_1 (MaxPooling2 (None, 5, 5, 10)          0         \n",
      "_________________________________________________________________\n",
      "conv2d_2 (Conv2D)            (None, 3, 3, 10)          910       \n",
      "_________________________________________________________________\n",
      "max_pooling2d_2 (MaxPooling2 (None, 1, 1, 10)          0         \n",
      "_________________________________________________________________\n",
      "flatten (Flatten)            (None, 10)                0         \n",
      "_________________________________________________________________\n",
      "dense (Dense)                (None, 10)                110       \n",
      "=================================================================\n",
      "Total params: 2,030\n",
      "Trainable params: 2,030\n",
      "Non-trainable params: 0\n",
      "_________________________________________________________________\n"
     ]
    }
   ],
   "source": [
    "model.summary()"
   ]
  },
  {
   "cell_type": "code",
   "execution_count": 6,
   "metadata": {},
   "outputs": [
    {
     "name": "stdout",
     "output_type": "stream",
     "text": [
      "<tensorflow.python.keras.layers.convolutional.Conv2D object at 0x0000027DD0531A88>\n",
      "<tensorflow.python.keras.layers.pooling.MaxPooling2D object at 0x0000027DD0539288>\n",
      "<tensorflow.python.keras.layers.convolutional.Conv2D object at 0x0000027DCF10D848>\n",
      "<tensorflow.python.keras.layers.pooling.MaxPooling2D object at 0x0000027DBF074F88>\n",
      "<tensorflow.python.keras.layers.convolutional.Conv2D object at 0x0000027DBF074C88>\n",
      "<tensorflow.python.keras.layers.pooling.MaxPooling2D object at 0x0000027DBF06D688>\n",
      "<tensorflow.python.keras.layers.core.Flatten object at 0x0000027DBF090988>\n",
      "<tensorflow.python.keras.layers.core.Dense object at 0x0000027DD0539088>\n"
     ]
    }
   ],
   "source": [
    "model.compile(optimizer='adam',\n",
    "              loss='sparse_categorical_crossentropy',\n",
    "              metrics=['accuracy'])\n",
    "\n",
    "for i in range(len(model.layers)):\n",
    "    print(model.layers[i])"
   ]
  },
  {
   "cell_type": "code",
   "execution_count": 7,
   "metadata": {},
   "outputs": [
    {
     "name": "stdout",
     "output_type": "stream",
     "text": [
      "Train on 60000 samples, validate on 10000 samples\n",
      "Epoch 1/5\n",
      "60000/60000 [==============================] - 6s 105us/sample - loss: 0.5512 - accuracy: 0.8285 - val_loss: 0.2386 - val_accuracy: 0.9276\n",
      "Epoch 2/5\n",
      "60000/60000 [==============================] - 5s 82us/sample - loss: 0.2171 - accuracy: 0.9340 - val_loss: 0.1684 - val_accuracy: 0.9471\n",
      "Epoch 3/5\n",
      "60000/60000 [==============================] - 5s 81us/sample - loss: 0.1736 - accuracy: 0.9473 - val_loss: 0.1470 - val_accuracy: 0.9525\n",
      "Epoch 4/5\n",
      "60000/60000 [==============================] - 5s 81us/sample - loss: 0.1492 - accuracy: 0.9546 - val_loss: 0.1346 - val_accuracy: 0.9599\n",
      "Epoch 5/5\n",
      "60000/60000 [==============================] - 5s 81us/sample - loss: 0.1347 - accuracy: 0.9593 - val_loss: 0.1126 - val_accuracy: 0.9669\n",
      "10000/10000 - 0s - loss: 0.1126 - accuracy: 0.9669\n"
     ]
    }
   ],
   "source": [
    "\"\"\"\n",
    "#log_dir = \"C:/Users/leegu/logs/3-layer_CNN_with_framework/\"+datetime.datetime.now().strftime(\"%Y%m%d-%H%M%S\")\n",
    "#log_dir = \"C:/Users/MSI/logs/3-layer_CNN-with-framework/\"+datetime.datetime.now().strftime(\"%Y%m%d-%H%M%S\")\n",
    "log_dir = \"C:/Users/MSI/logs/3-layer_CNN-with-framework/for_report\"\n",
    "\n",
    "try:\n",
    "    os.stat(log_dir)\n",
    "except:\n",
    "    os.mkdir(log_dir)\n",
    "\n",
    "tensorboard_callback = tf.keras.callbacks.TensorBoard(log_dir=log_dir, histogram_freq=1, profile_batch=100000000)\n",
    "model.fit(train_images,\n",
    "          train_labels,\n",
    "          epochs=5,\n",
    "          callbacks=[tensorboard_callback],\n",
    "          validation_data=(test_images, test_labels))\n",
    "test_loss, test_acc = model.evaluate(test_images,  test_labels, verbose=2)\n",
    "\"\"\""
   ]
  },
  {
   "cell_type": "code",
   "execution_count": 8,
   "metadata": {},
   "outputs": [],
   "source": [
    "#model.save_weights('./checkpoints/3-layer_CNN-with-framework')"
   ]
  },
  {
   "cell_type": "code",
   "execution_count": 9,
   "metadata": {},
   "outputs": [
    {
     "name": "stdout",
     "output_type": "stream",
     "text": [
      "10000/10000 - 0s - loss: 0.1126 - accuracy: 0.9669\n"
     ]
    }
   ],
   "source": [
    "model.load_weights('./checkpoints/3-layer_CNN-with-framework')\n",
    "loss,acc = model.evaluate(test_images,  test_labels, verbose=2)"
   ]
  },
  {
   "cell_type": "markdown",
   "metadata": {},
   "source": [
    "# CAM (Class Activation Map)\n",
    "reference: https://github.com/jacobgil/keras-cam"
   ]
  },
  {
   "cell_type": "code",
   "execution_count": 23,
   "metadata": {},
   "outputs": [],
   "source": [
    "def vis_CAM(model, img):\n",
    "    cnn_model = model\n",
    "    img = np.float32(img)\n",
    "    original_img = img\n",
    "    class_weights = cnn_model.layers[-1].get_weights()[0] \n",
    "    \n",
    "    get_last_conv2D_layer_output = tf.keras.backend.function([cnn_model.layers[0].input],\n",
    "                                     [cnn_model.layers[4].output])\n",
    "    conv_outputs = np.array(get_last_conv2D_layer_output([img]))\n",
    "    conv_outputs = conv_outputs[0][0]\n",
    "    cam = np.zeros(dtype = np.float32, shape = (3, 3))\n",
    "    \n",
    "    for i, w in enumerate(class_weights[1, :]):\n",
    "        cam += w * conv_outputs[:, :, i]    \n",
    "        \n",
    "    cam /= np.max(cam)\n",
    "    \n",
    "    cam_resize = cv2.resize(cam, (28, 28))\n",
    "    \n",
    "    heatmap = cv2.applyColorMap(np.uint8(255*cam), cv2.COLORMAP_JET)\n",
    "    heatmap_resize = cv2.applyColorMap(np.uint8(255*cam_resize), cv2.COLORMAP_JET)\n",
    "    \n",
    "    img = heatmap_resize*0.5 + original_img\n",
    "\n",
    "    fig = plt.figure()\n",
    "    \n",
    "    ax1 = fig.add_subplot(1, 3, 1)\n",
    "    ax1.imshow(original_img[0], cmap=\"gray\")\n",
    "    ax1.set_title('original')\n",
    "    ax1.axis(\"off\")\n",
    "\n",
    "    ax2 = fig.add_subplot(1, 3, 2)\n",
    "    ax2.imshow(heatmap)\n",
    "    ax2.set_title('cam')\n",
    "    ax2.axis(\"off\")\n",
    "\n",
    "    ax3 = fig.add_subplot(1, 3, 3)\n",
    "    ax3.imshow(img[0])\n",
    "    ax3.set_title('resize and overlap')\n",
    "    ax3.axis(\"off\")\n",
    "\n",
    "    plt.show()"
   ]
  },
  {
   "cell_type": "code",
   "execution_count": 24,
   "metadata": {},
   "outputs": [
    {
     "name": "stderr",
     "output_type": "stream",
     "text": [
      "Clipping input data to the valid range for imshow with RGB data ([0..1] for floats or [0..255] for integers).\n"
     ]
    },
    {
     "data": {
      "image/png": "[encoded data removed]",
      "text/plain": [
       "<Figure size 432x288 with 3 Axes>"
      ]
     },
     "metadata": {
      "needs_background": "light"
     },
     "output_type": "display_data"
    }
   ],
   "source": [
    "vis_CAM(model, test_images[0:1])"
   ]
  },
  {
   "cell_type": "markdown",
   "metadata": {},
   "source": [
    "## for Report"
   ]
  },
  {
   "cell_type": "code",
   "execution_count": 14,
   "metadata": {},
   "outputs": [],
   "source": [
    "import io\n",
    "\n",
    "def plot_to_image(figure):\n",
    "    \"\"\"Converts the matplotlib plot specified by 'figure' to a PNG image and\n",
    "    returns it. The supplied figure is closed and inaccessible after this call.\"\"\"\n",
    "    # Save the plot to a PNG in memory.\n",
    "    buf = io.BytesIO()\n",
    "    plt.savefig(buf, format='png')\n",
    "    # Closing the figure prevents it from being displayed directly inside\n",
    "    # the notebook.\n",
    "    plt.close(figure)\n",
    "    buf.seek(0)\n",
    "    # Convert PNG buffer to TF image\n",
    "    image = tf.image.decode_png(buf.getvalue(), channels=4)\n",
    "    # Add the batch dimension\n",
    "    image = tf.expand_dims(image, 0)\n",
    "    return image"
   ]
  },
  {
   "cell_type": "code",
   "execution_count": 15,
   "metadata": {},
   "outputs": [],
   "source": [
    "result = []\n",
    "for i in range(10):\n",
    "    result.append([])\n",
    "\n",
    "predict = model.predict(test_images)\n",
    "input_list = list(zip(test_images,test_labels))\n",
    "for i in range(len(test_images)):\n",
    "    if test_labels[i] == list(predict[i]).index(max(predict[i])):\n",
    "        result[test_labels[i]].append((i, round(max(predict[i]), 3)*100))\n",
    "\n",
    "for i in range(len(result)):\n",
    "    result[i].sort(key=lambda x:x[1])\n",
    "    \n",
    "\n",
    "def vis_top3_img_to_tensorboard(result, label):\n",
    "    best_idx, best_prob = result[label][-1]\n",
    "    second_idx, second_prob = result[label][-2]\n",
    "    third_idx, third_prob = result[label][-3]\n",
    "\n",
    "    log_dir = \"C:/Users/MSI/logs/3-layer_CNN-with-framework/for_report/images\"\n",
    "    file_writer = tf.summary.create_file_writer(log_dir)\n",
    "    \n",
    "    fig = plt.figure()\n",
    "\n",
    "    ax1 = fig.add_subplot(1, 3, 1)\n",
    "    ax1.imshow(test_images[best_idx], cmap=\"gray\")\n",
    "    ax1.set_title(str(best_prob))\n",
    "    ax1.axis(\"off\")\n",
    "\n",
    "    ax2 = fig.add_subplot(1, 3, 2)\n",
    "    ax2.imshow(test_images[second_idx], cmap=\"gray\")\n",
    "    ax2.set_title(str(second_prob))\n",
    "    ax2.axis(\"off\")\n",
    "\n",
    "    ax3 = fig.add_subplot(1, 3, 3)\n",
    "    ax3.imshow(test_images[third_idx], cmap=\"gray\")\n",
    "    ax3.set_title(str(third_prob))\n",
    "    ax3.axis(\"off\")\n",
    "    plt.show()\n",
    "    \n",
    "    with file_writer.as_default():\n",
    "        tf.summary.image(\"Label:\"+str(label) +\", Prob List: \"+str([best_prob, second_prob, third_prob]), np.array([test_images[best_idx],test_images[second_idx],test_images[third_idx]]).reshape(3,28,28,1), step=0)\n",
    "        #tf.summary.image(\"Label:\"+str(label) +\", Second Prob: \"+str(second_prob), .reshape(-1,28,28,1), step=0)\n",
    "        #tf.summary.image(\"Label:\"+str(label) +\", Third Prob: \"+str(third_prob), test_images[third_idx].reshape(-1,28,28,1), step=0)"
   ]
  },
  {
   "cell_type": "code",
   "execution_count": 16,
   "metadata": {},
   "outputs": [
    {
     "data": {
      "image/png": "[encoded data removed]",
      "text/plain": [
       "<Figure size 432x288 with 3 Axes>"
      ]
     },
     "metadata": {
      "needs_background": "light"
     },
     "output_type": "display_data"
    },
    {
     "data": {
      "image/png": "[encoded data removed]",
      "text/plain": [
       "<Figure size 432x288 with 3 Axes>"
      ]
     },
     "metadata": {
      "needs_background": "light"
     },
     "output_type": "display_data"
    },
    {
     "data": {
      "image/png": "[encoded data removed]",
      "text/plain": [
       "<Figure size 432x288 with 3 Axes>"
      ]
     },
     "metadata": {
      "needs_background": "light"
     },
     "output_type": "display_data"
    },
    {
     "data": {
      "image/png": "[encoded data removed]",
      "text/plain": [
       "<Figure size 432x288 with 3 Axes>"
      ]
     },
     "metadata": {
      "needs_background": "light"
     },
     "output_type": "display_data"
    },
    {
     "data": {
      "image/png": "[encoded data removed]",
      "text/plain": [
       "<Figure size 432x288 with 3 Axes>"
      ]
     },
     "metadata": {
      "needs_background": "light"
     },
     "output_type": "display_data"
    },
    {
     "data": {
      "image/png": "[encoded data removed]",
      "text/plain": [
       "<Figure size 432x288 with 3 Axes>"
      ]
     },
     "metadata": {
      "needs_background": "light"
     },
     "output_type": "display_data"
    },
    {
     "data": {
      "image/png": "[encoded data removed]",
      "text/plain": [
       "<Figure size 432x288 with 3 Axes>"
      ]
     },
     "metadata": {
      "needs_background": "light"
     },
     "output_type": "display_data"
    },
    {
     "data": {
      "image/png": "[encoded data removed]",
      "text/plain": [
       "<Figure size 432x288 with 3 Axes>"
      ]
     },
     "metadata": {
      "needs_background": "light"
     },
     "output_type": "display_data"
    },
    {
     "data": {
      "image/png": "[encoded data removed]",
      "text/plain": [
       "<Figure size 432x288 with 3 Axes>"
      ]
     },
     "metadata": {
      "needs_background": "light"
     },
     "output_type": "display_data"
    },
    {
     "data": {
      "image/png": "[encoded data removed]",
      "text/plain": [
       "<Figure size 432x288 with 3 Axes>"
      ]
     },
     "metadata": {
      "needs_background": "light"
     },
     "output_type": "display_data"
    }
   ],
   "source": [
    "vis_top3_img_to_tensorboard(result, 0)\n",
    "vis_top3_img_to_tensorboard(result, 1)\n",
    "vis_top3_img_to_tensorboard(result, 2)\n",
    "vis_top3_img_to_tensorboard(result, 3)\n",
    "vis_top3_img_to_tensorboard(result, 4)\n",
    "vis_top3_img_to_tensorboard(result, 5)\n",
    "vis_top3_img_to_tensorboard(result, 6)\n",
    "vis_top3_img_to_tensorboard(result, 7)\n",
    "vis_top3_img_to_tensorboard(result, 8)\n",
    "vis_top3_img_to_tensorboard(result, 9)"
   ]
  },
  {
   "cell_type": "code",
   "execution_count": 17,
   "metadata": {},
   "outputs": [
    {
     "data": {
      "text/plain": [
       "<AxesSubplot:>"
      ]
     },
     "execution_count": 17,
     "metadata": {},
     "output_type": "execute_result"
    },
    {
     "data": {
      "image/png": "[encoded data removed]",
      "text/plain": [
       "<Figure size 432x288 with 2 Axes>"
      ]
     },
     "metadata": {
      "needs_background": "light"
     },
     "output_type": "display_data"
    }
   ],
   "source": [
    "from sklearn.metrics import confusion_matrix\n",
    "import seaborn as sn\n",
    "\n",
    "prob_list = model.predict(test_images)\n",
    "pred_list =[]\n",
    "for i in range(len(test_images)):\n",
    "    pred_list.append(list(prob_list[i]).index(max(prob_list[i])))\n",
    "\n",
    "\n",
    "result = confusion_matrix(pred_list, test_labels, normalize=\"pred\")\n",
    "sn.heatmap(result, annot=True, fmt='.2f', cmap=\"Blues\")"
   ]
  }
 ],
 "metadata": {
  "kernelspec": {
   "display_name": "Python 3",
   "language": "python",
   "name": "python3"
  },
  "language_info": {
   "codemirror_mode": {
    "name": "ipython",
    "version": 3
   },
   "file_extension": ".py",
   "mimetype": "text/x-python",
   "name": "python",
   "nbconvert_exporter": "python",
   "pygments_lexer": "ipython3",
   "version": "3.7.9"
  }
 },
 "nbformat": 4,
 "nbformat_minor": 4
}
