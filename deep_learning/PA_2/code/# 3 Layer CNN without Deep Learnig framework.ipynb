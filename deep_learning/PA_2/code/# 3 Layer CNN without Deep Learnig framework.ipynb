{
 "cells": [
  {
   "cell_type": "markdown",
   "metadata": {},
   "source": [
    "# 3 Layer CNN without Deep Learnig framework"
   ]
  },
  {
   "cell_type": "code",
   "execution_count": 83,
   "metadata": {},
   "outputs": [],
   "source": [
    "import numpy as np\n",
    "import random"
   ]
  },
  {
   "cell_type": "code",
   "execution_count": 99,
   "metadata": {},
   "outputs": [],
   "source": [
    "import gzip\n",
    "import numpy as np\n",
    "\n",
    "def training_images():\n",
    "    with gzip.open('./dataset/train-images-idx3-ubyte.gz', 'r') as f:\n",
    "        magic_number = int.from_bytes(f.read(4), 'big')\n",
    "        image_count = int.from_bytes(f.read(4), 'big')\n",
    "        row_count = int.from_bytes(f.read(4), 'big')\n",
    "        column_count = int.from_bytes(f.read(4), 'big')\n",
    "        image_data = f.read()\n",
    "        images = np.frombuffer(image_data, dtype=np.uint8).reshape((image_count, row_count, column_count))\n",
    "        return images\n",
    "\n",
    "def training_labels():\n",
    "    with gzip.open('./dataset/train-labels-idx1-ubyte.gz', 'r') as f:\n",
    "        magic_number = int.from_bytes(f.read(4), 'big')\n",
    "        label_count = int.from_bytes(f.read(4), 'big')\n",
    "        label_data = f.read()\n",
    "        labels = np.frombuffer(label_data, dtype=np.uint8)\n",
    "        return labels\n",
    "\n",
    "def test_images():\n",
    "    with gzip.open('./dataset/t10k-images-idx3-ubyte.gz', 'r') as f:\n",
    "        magic_number = int.from_bytes(f.read(4), 'big')\n",
    "        image_count = int.from_bytes(f.read(4), 'big')\n",
    "        row_count = int.from_bytes(f.read(4), 'big')\n",
    "        column_count = int.from_bytes(f.read(4), 'big')\n",
    "        image_data = f.read()\n",
    "        images = np.frombuffer(image_data, dtype=np.uint8).reshape((image_count, row_count, column_count))\n",
    "        return images\n",
    "        \n",
    "def test_labels():\n",
    "    with gzip.open('./dataset/t10k-labels-idx1-ubyte.gz', 'r') as f:\n",
    "        magic_number = int.from_bytes(f.read(4), 'big')\n",
    "        label_count = int.from_bytes(f.read(4), 'big')\n",
    "        label_data = f.read()\n",
    "        labels = np.frombuffer(label_data, dtype=np.uint8)\n",
    "        return labels"
   ]
  },
  {
   "cell_type": "code",
   "execution_count": 100,
   "metadata": {},
   "outputs": [
    {
     "name": "stdout",
     "output_type": "stream",
     "text": [
      "--------- train set ---------\n",
      "Shape of X_train:  (60000, 28, 28, 1)\n",
      "Shape of Y_train:  (60000,)\n",
      "\n",
      "--------- test set ---------\n",
      "Shape of X_test:  (10000, 28, 28, 1)\n",
      "Shape of Y_test:  (10000,)\n"
     ]
    }
   ],
   "source": [
    "# for train dataset\n",
    "X_train = training_images()\n",
    "Y_train = np.array(training_labels())\n",
    "\n",
    "# for test dataset\n",
    "X_test = test_images()\n",
    "Y_test = test_labels()\n",
    "\n",
    "X_train = X_train.reshape((60000, 28, 28, 1))\n",
    "X_test = X_test.reshape((10000, 28, 28, 1))\n",
    "X_train, X_test = X_train / 255.0, X_test / 255.0\n",
    "\n",
    "# check result\n",
    "print(\"--------- train set ---------\")\n",
    "print(\"Shape of X_train: \", X_train.shape)\n",
    "print(\"Shape of Y_train: \", Y_train.shape)\n",
    "print(\"\\n--------- test set ---------\")\n",
    "print(\"Shape of X_test: \", X_test.shape)\n",
    "print(\"Shape of Y_test: \", Y_test.shape)"
   ]
  },
  {
   "cell_type": "code",
   "execution_count": 101,
   "metadata": {},
   "outputs": [],
   "source": [
    "# from PA1\n",
    "class ReLU:\n",
    "    def __init__(self):\n",
    "        self.info = \"ReLU Layer\"\n",
    "        self.last_input = None\n",
    "        \n",
    "    def forward(self, input):\n",
    "        self.last_input = input\n",
    "        return np.maximum(0,input)\n",
    "\n",
    "    def backward(self, din):\n",
    "        S = self.last_input\n",
    "        din[S <= \n",
    "            0] = 0\n",
    "        return din"
   ]
  },
  {
   "cell_type": "code",
   "execution_count": 102,
   "metadata": {},
   "outputs": [],
   "source": [
    "# find conv, find Conv\n",
    "class Convolution_3x3:\n",
    "    def __init__(self, num_filters):\n",
    "        self.info = \"Convolution layer\"\n",
    "        self.num_filters = num_filters\n",
    "        self.last_input = None\n",
    "        self.lr = 0.005\n",
    "        self.filters = np.random.randn(num_filters, 3, 3) / 9\n",
    "\n",
    "    def forward(self, input):\n",
    "        #print(self.info, \"forward called\")\n",
    "        #print(\"self.filters.shape: \", self.filters.shape)\n",
    "        self.last_input = input\n",
    "        input_dimension = input.shape[1]\n",
    "        output_dimension = input_dimension - 2\n",
    "        out = np.zeros((self.filters.shape[0], output_dimension, output_dimension)) \n",
    "        for f in range(self.filters.shape[0]):\n",
    "            y = 0\n",
    "            while y + 3 <= input_dimension:\n",
    "                x = 0\n",
    "                while x + 3 <= input_dimension:\n",
    "                    patch = input[: ,y:y + 3, x:x + 3]\n",
    "                    out[f, y, x] += np.sum(self.filters[f] * patch)                    \n",
    "                    x += 1\n",
    "                y+= 1\n",
    "        return out\n",
    "        \n",
    "    def backward(self, din):\n",
    "        input_dimension = self.last_input.shape[1]\n",
    "        dout = np.zeros(self.last_input.shape)\n",
    "        dfilt = np.zeros(self.filters.shape)\n",
    "\n",
    "        for f in range(self.filters.shape[0]):\n",
    "            y = 0\n",
    "            while y + 3 <= input_dimension:\n",
    "                x = 0\n",
    "                while x + 3 <= input_dimension:\n",
    "                    patch = self.last_input[:, y:y + 3, x:x + 3]\n",
    "                    dfilt[f] += np.sum(din[f, y, x] * patch, axis=0)\n",
    "                    dout[:, y:y + 3, x:x + 3] += din[f, y, x] * self.filters[f]\n",
    "                    x += 1\n",
    "                y += 1\n",
    "        self.filters -= self.lr * dfilt\n",
    "        return dout\n",
    "    \n",
    "    def get_weights(self):\n",
    "        return np.reshape(self.filters, -1)"
   ]
  },
  {
   "cell_type": "code",
   "execution_count": 103,
   "metadata": {},
   "outputs": [],
   "source": [
    "# find MaxPooling, maxpooling\n",
    "class MaxPooling:\n",
    "    def __init__(self):\n",
    "        self.info = \"MaxPooling Layer\"\n",
    "        self.last_input = None\n",
    "\n",
    "    def forward(self, input):\n",
    "        self.last_input = input\n",
    "        num_channels, h_prev, w_prev = input.shape\n",
    "        h = int((h_prev - 2) / 2) + 1\n",
    "        w = int((w_prev - 2) / 2) + 1\n",
    "\n",
    "        output = np.zeros((num_channels, h, w))\n",
    "\n",
    "        for i in range(num_channels):\n",
    "            std_y = y = 0\n",
    "            while std_y + 2 <= h_prev:\n",
    "                std_x = x = 0\n",
    "                while std_x + 2 <= w_prev:\n",
    "                    patch = input[i, std_y:std_y + 2, std_x:std_x + 2]\n",
    "                    output[i, y, x] = np.max(patch)\n",
    "                    std_x += 2\n",
    "                    x += 1\n",
    "                std_y += 2\n",
    "                y += 1\n",
    "                \n",
    "        return output\n",
    "\n",
    "    def backward(self, din):\n",
    "        num_channels, orig_dim, *_ = self.last_input.shape\n",
    "        dout = np.zeros(self.last_input.shape)\n",
    "        if len(din[0][0]) == 1:\n",
    "            #print(\"last_maxpooling backward called\")\n",
    "            for c in range(num_channels):\n",
    "                patch = self.last_input[c, :, :]\n",
    "                (x, y) = np.unravel_index(np.nanargmax(patch), patch.shape)\n",
    "                #print(\"patch.shape\", patch.shape)\n",
    "                #print(\"x, y\", x, y)\n",
    "                dout[c, y, x] += din[c, 0, 0]\n",
    "            return dout  \n",
    "        \n",
    "        #print(\"not last_maxpooling backward called\")\n",
    "        for c in range(num_channels):\n",
    "            std_y = y = 0\n",
    "            while std_y + 2 <= orig_dim:\n",
    "                std_x = x = 0\n",
    "                while std_x + 2 <= orig_dim:\n",
    "                    patch = self.last_input[c, std_y:std_y + 2, std_x:std_x + 2]\n",
    "                    (x, y) = np.unravel_index(np.nanargmax(patch), patch.shape)\n",
    "                    dout[c, std_y + x, std_x + y] += din[c, y, x]\n",
    "                    std_x += 2\n",
    "                    x += 1\n",
    "                std_y += 2\n",
    "                y += 1\n",
    "    \n",
    "        return dout\n",
    "\n",
    "    def get_weights(self):\n",
    "        return 0"
   ]
  },
  {
   "cell_type": "code",
   "execution_count": 109,
   "metadata": {},
   "outputs": [],
   "source": [
    "class Linear:\n",
    "    def __init__(self, input_size, output_size):\n",
    "        self.info = \"Linear \"\n",
    "        self.weights = np.random.randn(input_size, output_size) * 0.1\n",
    "        self.biases = np.zeros(output_size)\n",
    "        self.learning_rate = 0.003\n",
    "        self.last_input_shape = None\n",
    "        self.last_input = None\n",
    "        self.last_output = None\n",
    "\n",
    "    def forward(self, input):\n",
    "        self.last_input_shape = input.shape\n",
    "        input = input.flatten()\n",
    "        output = np.dot(input, self.weights) + self.biases\n",
    "\n",
    "        self.last_input = input\n",
    "        self.last_output = output\n",
    "\n",
    "        return np.exp(output) / np.sum(np.exp(output), axis=0)\n",
    "\n",
    "    def backward(self, din):\n",
    "        for i, gradient in enumerate(din):\n",
    "            if gradient == 0:\n",
    "                continue\n",
    "\n",
    "            t_exp = np.exp(self.last_output)\n",
    "            dout_dt = -t_exp[i] * t_exp / (np.sum(t_exp) ** 2)\n",
    "            dout_dt[i] = t_exp[i] * (np.sum(t_exp) - t_exp[i]) / (np.sum(t_exp) ** 2)\n",
    "\n",
    "            dt = gradient * dout_dt\n",
    "\n",
    "            dout = self.weights @ dt\n",
    "\n",
    "            self.weights -= self.learning_rate * (np.transpose(self.last_input[np.newaxis]) @ dt[np.newaxis])\n",
    "            self.biases -= self.learning_rate * dt\n",
    "\n",
    "            return dout.reshape(self.last_input_shape)\n",
    "\n",
    "    def get_weights(self):\n",
    "        return np.reshape(self.weights, -1)"
   ]
  },
  {
   "cell_type": "code",
   "execution_count": 110,
   "metadata": {},
   "outputs": [],
   "source": [
    "from torch.utils.tensorboard import SummaryWriter"
   ]
  },
  {
   "cell_type": "code",
   "execution_count": 111,
   "metadata": {},
   "outputs": [],
   "source": [
    "class Model():\n",
    "    def __init__(self, layers, num_epoch = 2):\n",
    "        self.info = \"Model\"\n",
    "        self.model = layers\n",
    "        self.epochs = num_epoch\n",
    "\n",
    "    def forward(self, image):\n",
    "        input = image.reshape(1,28,28)\n",
    "        for layer in self.model:\n",
    "            input = layer.forward(input)\n",
    "        return input\n",
    "\n",
    "    def backward(self, gradient):\n",
    "        for layer in reversed(self.model):\n",
    "            gradient = layer.backward(gradient)\n",
    "            \n",
    "    def train(self, X_train, Y_train, X_test, Y_test ):\n",
    "        writer = SummaryWriter('C:/Users/MSI/logs/3-layer_CNN-without-framework/for_report/graphs2')\n",
    "        for epoch in range(1, self.epochs + 1):\n",
    "            print(epoch,\"th Epoch Start!!!\")\n",
    "            loss, total_loss, num_corr = 0, 0, 0\n",
    "            \n",
    "            for i in range(len(X_train)):\n",
    "                if i % 1000 == 999:\n",
    "                    accuracy = (num_corr / (i + 1)) * 100\n",
    "                    loss = total_loss / (i + 1)\n",
    "\n",
    "                    #Validation 시간이 너무 오래걸려, 500개만 사용\n",
    "                    indices = np.random.permutation(10000)[:500]\n",
    "                    val_loss, val_accuracy = self.evaluate(X_test[indices, :],Y_test[indices])\n",
    "\n",
    "                    \n",
    "                    writer.add_scalar('training loss', loss, i)\n",
    "                    writer.add_scalar('validation loss', val_loss, i)\n",
    "                    writer.add_scalar('training accuracy', accuracy, i)\n",
    "                    writer.add_scalar('validation accuray', val_accuracy, i)\n",
    "\n",
    "                    print('[Step %05d]: training loss %02.3f,  accuracy: %02.3f%%, validation loss %02.3f, validation accuracy: %02.3f%%' % (i + 1, loss, accuracy, val_loss, val_accuracy))\n",
    "                image = X_train[i]\n",
    "                label = Y_train[i]\n",
    "\n",
    "                tmp_output = self.forward(image)\n",
    "                total_loss += self.cross_entropy(tmp_output[label])\n",
    "                if np.argmax(tmp_output) == label:\n",
    "                    num_corr += 1\n",
    "\n",
    "                gradient = np.zeros(10)\n",
    "                gradient[label] = -1 / tmp_output[label]\n",
    "                self.backward(gradient)\n",
    "\n",
    "    def evaluate(self, X, y):\n",
    "        loss, num_correct = 0, 0\n",
    "        for i in range(len(X)):\n",
    "            tmp_output = self.forward(X[i])\n",
    "            loss += self.cross_entropy(tmp_output[y[i]])\n",
    "            prediction = np.argmax(tmp_output)\n",
    "            if prediction == y[i]:\n",
    "                num_correct += 1\n",
    "                \n",
    "        test_size = len(X)\n",
    "        accuracy = (num_correct / test_size) * 100\n",
    "        loss = loss / test_size\n",
    "        return loss, accuracy\n",
    "    \n",
    "    def cross_entropy(self, x):\n",
    "        return -np.log(x)\n",
    "    \n",
    "    def last_activation_map(self, image):\n",
    "        \"\"\"\n",
    "        i = 0 -> Conv\n",
    "        i = 1 -> ReLU\n",
    "        i = 2 -> MaxPool\n",
    "        i = 3 -> Conv\n",
    "        i = 4 -> ReLU\n",
    "        i = 5 -> MaxPool\n",
    "        i = 6 -> Conv\n",
    "        \"\"\"\n",
    "        input = image.reshape(1, 28, 28)\n",
    "        for i in range(7):\n",
    "            input = self.model[i].forward(input)\n",
    "        print(\"input.shape\", input.shape)\n",
    "        return input\n",
    "        \n",
    "    def simple_summary(self):\n",
    "        input = np.zeros((1, 28, 28))\n",
    "        print(\"-------------- simple summary --------------\")\n",
    "        print(\"input shape: \", input.shape)\n",
    "        for layer in self.model:\n",
    "            input = layer.forward(input)\n",
    "            print(layer.info, \"output shape: \", input.shape)\n",
    "        print(\"--------------------------------------------\")"
   ]
  },
  {
   "cell_type": "code",
   "execution_count": 112,
   "metadata": {},
   "outputs": [
    {
     "name": "stdout",
     "output_type": "stream",
     "text": [
      "-------------- simple summary --------------\n",
      "input shape:  (1, 28, 28)\n",
      "Convolution layer output shape:  (10, 26, 26)\n",
      "ReLU Layer output shape:  (10, 26, 26)\n",
      "MaxPooling Layer output shape:  (10, 13, 13)\n",
      "Convolution layer output shape:  (10, 11, 11)\n",
      "ReLU Layer output shape:  (10, 11, 11)\n",
      "MaxPooling Layer output shape:  (10, 5, 5)\n",
      "Convolution layer output shape:  (10, 3, 3)\n",
      "ReLU Layer output shape:  (10, 3, 3)\n",
      "MaxPooling Layer output shape:  (10, 1, 1)\n",
      "Linear  output shape:  (10,)\n",
      "--------------------------------------------\n"
     ]
    }
   ],
   "source": [
    "# find execute\n",
    "layers = [Convolution_3x3(10), ReLU(), MaxPooling(), Convolution_3x3(10), ReLU(), MaxPooling(), Convolution_3x3(10), ReLU(), MaxPooling(), Linear(10,10)]\n",
    "Conv_3_layer_Model = Model(layers)\n",
    "Conv_3_layer_Model.simple_summary()"
   ]
  },
  {
   "cell_type": "code",
   "execution_count": 113,
   "metadata": {},
   "outputs": [
    {
     "name": "stdout",
     "output_type": "stream",
     "text": [
      "1 th Epoch Start!!!\n",
      "[Step 01000]: training loss 2.281,  accuracy: 14.900%, validation loss 2.244, validation accuracy: 17.600%\n",
      "[Step 02000]: training loss 2.236,  accuracy: 16.950%, validation loss 2.100, validation accuracy: 35.800%\n",
      "[Step 03000]: training loss 2.149,  accuracy: 23.033%, validation loss 1.919, validation accuracy: 32.800%\n",
      "[Step 04000]: training loss 2.117,  accuracy: 25.275%, validation loss 2.175, validation accuracy: 25.000%\n",
      "[Step 05000]: training loss 2.131,  accuracy: 24.980%, validation loss 2.193, validation accuracy: 19.600%\n"
     ]
    },
    {
     "ename": "KeyboardInterrupt",
     "evalue": "",
     "output_type": "error",
     "traceback": [
      "\u001b[1;31m---------------------------------------------------------------------------\u001b[0m",
      "\u001b[1;31mKeyboardInterrupt\u001b[0m                         Traceback (most recent call last)",
      "\u001b[1;32m<ipython-input-113-7e77a391dbff>\u001b[0m in \u001b[0;36m<module>\u001b[1;34m\u001b[0m\n\u001b[1;32m----> 1\u001b[1;33m \u001b[0mConv_3_layer_Model\u001b[0m\u001b[1;33m.\u001b[0m\u001b[0mtrain\u001b[0m\u001b[1;33m(\u001b[0m\u001b[0mX_train\u001b[0m\u001b[1;33m,\u001b[0m \u001b[0mY_train\u001b[0m\u001b[1;33m.\u001b[0m\u001b[0mT\u001b[0m\u001b[1;33m,\u001b[0m \u001b[0mX_test\u001b[0m\u001b[1;33m,\u001b[0m \u001b[0mY_test\u001b[0m\u001b[1;33m.\u001b[0m\u001b[0mT\u001b[0m\u001b[1;33m)\u001b[0m\u001b[1;33m\u001b[0m\u001b[1;33m\u001b[0m\u001b[0m\n\u001b[0m",
      "\u001b[1;32m<ipython-input-111-fe75237f522b>\u001b[0m in \u001b[0;36mtrain\u001b[1;34m(self, X_train, Y_train, X_test, Y_test)\u001b[0m\n\u001b[0;32m     47\u001b[0m                 \u001b[0mgradient\u001b[0m \u001b[1;33m=\u001b[0m \u001b[0mnp\u001b[0m\u001b[1;33m.\u001b[0m\u001b[0mzeros\u001b[0m\u001b[1;33m(\u001b[0m\u001b[1;36m10\u001b[0m\u001b[1;33m)\u001b[0m\u001b[1;33m\u001b[0m\u001b[1;33m\u001b[0m\u001b[0m\n\u001b[0;32m     48\u001b[0m                 \u001b[0mgradient\u001b[0m\u001b[1;33m[\u001b[0m\u001b[0mlabel\u001b[0m\u001b[1;33m]\u001b[0m \u001b[1;33m=\u001b[0m \u001b[1;33m-\u001b[0m\u001b[1;36m1\u001b[0m \u001b[1;33m/\u001b[0m \u001b[0mtmp_output\u001b[0m\u001b[1;33m[\u001b[0m\u001b[0mlabel\u001b[0m\u001b[1;33m]\u001b[0m\u001b[1;33m\u001b[0m\u001b[1;33m\u001b[0m\u001b[0m\n\u001b[1;32m---> 49\u001b[1;33m                 \u001b[0mself\u001b[0m\u001b[1;33m.\u001b[0m\u001b[0mbackward\u001b[0m\u001b[1;33m(\u001b[0m\u001b[0mgradient\u001b[0m\u001b[1;33m)\u001b[0m\u001b[1;33m\u001b[0m\u001b[1;33m\u001b[0m\u001b[0m\n\u001b[0m\u001b[0;32m     50\u001b[0m \u001b[1;33m\u001b[0m\u001b[0m\n\u001b[0;32m     51\u001b[0m     \u001b[1;32mdef\u001b[0m \u001b[0mevaluate\u001b[0m\u001b[1;33m(\u001b[0m\u001b[0mself\u001b[0m\u001b[1;33m,\u001b[0m \u001b[0mX\u001b[0m\u001b[1;33m,\u001b[0m \u001b[0my\u001b[0m\u001b[1;33m)\u001b[0m\u001b[1;33m:\u001b[0m\u001b[1;33m\u001b[0m\u001b[1;33m\u001b[0m\u001b[0m\n",
      "\u001b[1;32m<ipython-input-111-fe75237f522b>\u001b[0m in \u001b[0;36mbackward\u001b[1;34m(self, gradient)\u001b[0m\n\u001b[0;32m     13\u001b[0m     \u001b[1;32mdef\u001b[0m \u001b[0mbackward\u001b[0m\u001b[1;33m(\u001b[0m\u001b[0mself\u001b[0m\u001b[1;33m,\u001b[0m \u001b[0mgradient\u001b[0m\u001b[1;33m)\u001b[0m\u001b[1;33m:\u001b[0m\u001b[1;33m\u001b[0m\u001b[1;33m\u001b[0m\u001b[0m\n\u001b[0;32m     14\u001b[0m         \u001b[1;32mfor\u001b[0m \u001b[0mlayer\u001b[0m \u001b[1;32min\u001b[0m \u001b[0mreversed\u001b[0m\u001b[1;33m(\u001b[0m\u001b[0mself\u001b[0m\u001b[1;33m.\u001b[0m\u001b[0mmodel\u001b[0m\u001b[1;33m)\u001b[0m\u001b[1;33m:\u001b[0m\u001b[1;33m\u001b[0m\u001b[1;33m\u001b[0m\u001b[0m\n\u001b[1;32m---> 15\u001b[1;33m             \u001b[0mgradient\u001b[0m \u001b[1;33m=\u001b[0m \u001b[0mlayer\u001b[0m\u001b[1;33m.\u001b[0m\u001b[0mbackward\u001b[0m\u001b[1;33m(\u001b[0m\u001b[0mgradient\u001b[0m\u001b[1;33m)\u001b[0m\u001b[1;33m\u001b[0m\u001b[1;33m\u001b[0m\u001b[0m\n\u001b[0m\u001b[0;32m     16\u001b[0m \u001b[1;33m\u001b[0m\u001b[0m\n\u001b[0;32m     17\u001b[0m     \u001b[1;32mdef\u001b[0m \u001b[0mtrain\u001b[0m\u001b[1;33m(\u001b[0m\u001b[0mself\u001b[0m\u001b[1;33m,\u001b[0m \u001b[0mX_train\u001b[0m\u001b[1;33m,\u001b[0m \u001b[0mY_train\u001b[0m\u001b[1;33m,\u001b[0m \u001b[0mX_test\u001b[0m\u001b[1;33m,\u001b[0m \u001b[0mY_test\u001b[0m \u001b[1;33m)\u001b[0m\u001b[1;33m:\u001b[0m\u001b[1;33m\u001b[0m\u001b[1;33m\u001b[0m\u001b[0m\n",
      "\u001b[1;32m<ipython-input-103-2fe5573b4ab8>\u001b[0m in \u001b[0;36mbackward\u001b[1;34m(self, din)\u001b[0m\n\u001b[0;32m     47\u001b[0m                 \u001b[1;32mwhile\u001b[0m \u001b[0mstd_x\u001b[0m \u001b[1;33m+\u001b[0m \u001b[1;36m2\u001b[0m \u001b[1;33m<=\u001b[0m \u001b[0morig_dim\u001b[0m\u001b[1;33m:\u001b[0m\u001b[1;33m\u001b[0m\u001b[1;33m\u001b[0m\u001b[0m\n\u001b[0;32m     48\u001b[0m                     \u001b[0mpatch\u001b[0m \u001b[1;33m=\u001b[0m \u001b[0mself\u001b[0m\u001b[1;33m.\u001b[0m\u001b[0mlast_input\u001b[0m\u001b[1;33m[\u001b[0m\u001b[0mc\u001b[0m\u001b[1;33m,\u001b[0m \u001b[0mstd_y\u001b[0m\u001b[1;33m:\u001b[0m\u001b[0mstd_y\u001b[0m \u001b[1;33m+\u001b[0m \u001b[1;36m2\u001b[0m\u001b[1;33m,\u001b[0m \u001b[0mstd_x\u001b[0m\u001b[1;33m:\u001b[0m\u001b[0mstd_x\u001b[0m \u001b[1;33m+\u001b[0m \u001b[1;36m2\u001b[0m\u001b[1;33m]\u001b[0m\u001b[1;33m\u001b[0m\u001b[1;33m\u001b[0m\u001b[0m\n\u001b[1;32m---> 49\u001b[1;33m                     \u001b[1;33m(\u001b[0m\u001b[0mx\u001b[0m\u001b[1;33m,\u001b[0m \u001b[0my\u001b[0m\u001b[1;33m)\u001b[0m \u001b[1;33m=\u001b[0m \u001b[0mnp\u001b[0m\u001b[1;33m.\u001b[0m\u001b[0munravel_index\u001b[0m\u001b[1;33m(\u001b[0m\u001b[0mnp\u001b[0m\u001b[1;33m.\u001b[0m\u001b[0mnanargmax\u001b[0m\u001b[1;33m(\u001b[0m\u001b[0mpatch\u001b[0m\u001b[1;33m)\u001b[0m\u001b[1;33m,\u001b[0m \u001b[0mpatch\u001b[0m\u001b[1;33m.\u001b[0m\u001b[0mshape\u001b[0m\u001b[1;33m)\u001b[0m\u001b[1;33m\u001b[0m\u001b[1;33m\u001b[0m\u001b[0m\n\u001b[0m\u001b[0;32m     50\u001b[0m                     \u001b[0mdout\u001b[0m\u001b[1;33m[\u001b[0m\u001b[0mc\u001b[0m\u001b[1;33m,\u001b[0m \u001b[0mstd_y\u001b[0m \u001b[1;33m+\u001b[0m \u001b[0mx\u001b[0m\u001b[1;33m,\u001b[0m \u001b[0mstd_x\u001b[0m \u001b[1;33m+\u001b[0m \u001b[0my\u001b[0m\u001b[1;33m]\u001b[0m \u001b[1;33m+=\u001b[0m \u001b[0mdin\u001b[0m\u001b[1;33m[\u001b[0m\u001b[0mc\u001b[0m\u001b[1;33m,\u001b[0m \u001b[0my\u001b[0m\u001b[1;33m,\u001b[0m \u001b[0mx\u001b[0m\u001b[1;33m]\u001b[0m\u001b[1;33m\u001b[0m\u001b[1;33m\u001b[0m\u001b[0m\n\u001b[0;32m     51\u001b[0m                     \u001b[0mstd_x\u001b[0m \u001b[1;33m+=\u001b[0m \u001b[1;36m2\u001b[0m\u001b[1;33m\u001b[0m\u001b[1;33m\u001b[0m\u001b[0m\n",
      "\u001b[1;32m<__array_function__ internals>\u001b[0m in \u001b[0;36mnanargmax\u001b[1;34m(*args, **kwargs)\u001b[0m\n",
      "\u001b[1;32m~\\Anaconda3\\envs\\DL\\lib\\site-packages\\numpy\\lib\\nanfunctions.py\u001b[0m in \u001b[0;36mnanargmax\u001b[1;34m(a, axis)\u001b[0m\n\u001b[0;32m    543\u001b[0m     \"\"\"\n\u001b[0;32m    544\u001b[0m     \u001b[0ma\u001b[0m\u001b[1;33m,\u001b[0m \u001b[0mmask\u001b[0m \u001b[1;33m=\u001b[0m \u001b[0m_replace_nan\u001b[0m\u001b[1;33m(\u001b[0m\u001b[0ma\u001b[0m\u001b[1;33m,\u001b[0m \u001b[1;33m-\u001b[0m\u001b[0mnp\u001b[0m\u001b[1;33m.\u001b[0m\u001b[0minf\u001b[0m\u001b[1;33m)\u001b[0m\u001b[1;33m\u001b[0m\u001b[1;33m\u001b[0m\u001b[0m\n\u001b[1;32m--> 545\u001b[1;33m     \u001b[0mres\u001b[0m \u001b[1;33m=\u001b[0m \u001b[0mnp\u001b[0m\u001b[1;33m.\u001b[0m\u001b[0margmax\u001b[0m\u001b[1;33m(\u001b[0m\u001b[0ma\u001b[0m\u001b[1;33m,\u001b[0m \u001b[0maxis\u001b[0m\u001b[1;33m=\u001b[0m\u001b[0maxis\u001b[0m\u001b[1;33m)\u001b[0m\u001b[1;33m\u001b[0m\u001b[1;33m\u001b[0m\u001b[0m\n\u001b[0m\u001b[0;32m    546\u001b[0m     \u001b[1;32mif\u001b[0m \u001b[0mmask\u001b[0m \u001b[1;32mis\u001b[0m \u001b[1;32mnot\u001b[0m \u001b[1;32mNone\u001b[0m\u001b[1;33m:\u001b[0m\u001b[1;33m\u001b[0m\u001b[1;33m\u001b[0m\u001b[0m\n\u001b[0;32m    547\u001b[0m         \u001b[0mmask\u001b[0m \u001b[1;33m=\u001b[0m \u001b[0mnp\u001b[0m\u001b[1;33m.\u001b[0m\u001b[0mall\u001b[0m\u001b[1;33m(\u001b[0m\u001b[0mmask\u001b[0m\u001b[1;33m,\u001b[0m \u001b[0maxis\u001b[0m\u001b[1;33m=\u001b[0m\u001b[0maxis\u001b[0m\u001b[1;33m)\u001b[0m\u001b[1;33m\u001b[0m\u001b[1;33m\u001b[0m\u001b[0m\n",
      "\u001b[1;32m<__array_function__ internals>\u001b[0m in \u001b[0;36margmax\u001b[1;34m(*args, **kwargs)\u001b[0m\n",
      "\u001b[1;32m~\\Anaconda3\\envs\\DL\\lib\\site-packages\\numpy\\core\\fromnumeric.py\u001b[0m in \u001b[0;36margmax\u001b[1;34m(a, axis, out)\u001b[0m\n\u001b[0;32m   1186\u001b[0m \u001b[1;33m\u001b[0m\u001b[0m\n\u001b[0;32m   1187\u001b[0m     \"\"\"\n\u001b[1;32m-> 1188\u001b[1;33m     \u001b[1;32mreturn\u001b[0m \u001b[0m_wrapfunc\u001b[0m\u001b[1;33m(\u001b[0m\u001b[0ma\u001b[0m\u001b[1;33m,\u001b[0m \u001b[1;34m'argmax'\u001b[0m\u001b[1;33m,\u001b[0m \u001b[0maxis\u001b[0m\u001b[1;33m=\u001b[0m\u001b[0maxis\u001b[0m\u001b[1;33m,\u001b[0m \u001b[0mout\u001b[0m\u001b[1;33m=\u001b[0m\u001b[0mout\u001b[0m\u001b[1;33m)\u001b[0m\u001b[1;33m\u001b[0m\u001b[1;33m\u001b[0m\u001b[0m\n\u001b[0m\u001b[0;32m   1189\u001b[0m \u001b[1;33m\u001b[0m\u001b[0m\n\u001b[0;32m   1190\u001b[0m \u001b[1;33m\u001b[0m\u001b[0m\n",
      "\u001b[1;32m~\\Anaconda3\\envs\\DL\\lib\\site-packages\\numpy\\core\\fromnumeric.py\u001b[0m in \u001b[0;36m_wrapfunc\u001b[1;34m(obj, method, *args, **kwds)\u001b[0m\n\u001b[0;32m     56\u001b[0m \u001b[1;33m\u001b[0m\u001b[0m\n\u001b[0;32m     57\u001b[0m     \u001b[1;32mtry\u001b[0m\u001b[1;33m:\u001b[0m\u001b[1;33m\u001b[0m\u001b[1;33m\u001b[0m\u001b[0m\n\u001b[1;32m---> 58\u001b[1;33m         \u001b[1;32mreturn\u001b[0m \u001b[0mbound\u001b[0m\u001b[1;33m(\u001b[0m\u001b[1;33m*\u001b[0m\u001b[0margs\u001b[0m\u001b[1;33m,\u001b[0m \u001b[1;33m**\u001b[0m\u001b[0mkwds\u001b[0m\u001b[1;33m)\u001b[0m\u001b[1;33m\u001b[0m\u001b[1;33m\u001b[0m\u001b[0m\n\u001b[0m\u001b[0;32m     59\u001b[0m     \u001b[1;32mexcept\u001b[0m \u001b[0mTypeError\u001b[0m\u001b[1;33m:\u001b[0m\u001b[1;33m\u001b[0m\u001b[1;33m\u001b[0m\u001b[0m\n\u001b[0;32m     60\u001b[0m         \u001b[1;31m# A TypeError occurs if the object does have such a method in its\u001b[0m\u001b[1;33m\u001b[0m\u001b[1;33m\u001b[0m\u001b[1;33m\u001b[0m\u001b[0m\n",
      "\u001b[1;31mKeyboardInterrupt\u001b[0m: "
     ]
    }
   ],
   "source": [
    "Conv_3_layer_Model.train(X_train, Y_train.T, X_test, Y_test.T)"
   ]
  },
  {
   "cell_type": "code",
   "execution_count": 141,
   "metadata": {},
   "outputs": [],
   "source": [
    "import tensorflow as tf # for tensorboard\n",
    "%matplotlib inline\n",
    "from matplotlib import pyplot as plt\n",
    "\n",
    "def predict(model, X):\n",
    "    result = []\n",
    "    for i in range(len(X)):\n",
    "        if i % 100 == 99:\n",
    "            print(i+1,\"th data prediction done.\")\n",
    "        prob_list = model.forward(X[i])\n",
    "        result.append(prob_list)\n",
    "    return result\n",
    "\n",
    "def vis_top3_img_to_tensorboard(result, label):\n",
    "    if len(result[label]) >= 3:\n",
    "        best_idx, best_prob = result[label][-1]\n",
    "        second_idx, second_prob = result[label][-2]\n",
    "        third_idx, third_prob = result[label][-3]\n",
    "        \n",
    "        best_prob = round(best_prob, 3)\n",
    "        second_prob = round(second_prob, 3)\n",
    "        third_prob = round(third_prob, 3)\n",
    "        \n",
    "        log_dir = \"C:/Users/MSI/logs/3-layer_CNN-without-framework/for_report/images\"\n",
    "        file_writer = tf.summary.create_file_writer(log_dir)\n",
    "\n",
    "        fig = plt.figure()\n",
    "\n",
    "        ax1 = fig.add_subplot(1, 3, 1)\n",
    "        ax1.imshow(X_test[best_idx], cmap=\"gray\")\n",
    "        ax1.set_title(str(best_prob))\n",
    "        ax1.axis(\"off\")\n",
    "\n",
    "        ax2 = fig.add_subplot(1, 3, 2)\n",
    "        ax2.imshow(X_test[second_idx], cmap=\"gray\")\n",
    "        ax2.set_title(str(second_prob))\n",
    "        ax2.axis(\"off\")\n",
    "\n",
    "        ax3 = fig.add_subplot(1, 3, 3)\n",
    "        ax3.imshow(X_test[third_idx], cmap=\"gray\")\n",
    "        ax3.set_title(str(third_prob))\n",
    "        ax3.axis(\"off\")\n",
    "        plt.show()\n",
    "\n",
    "        with file_writer.as_default():\n",
    "            tf.summary.image(\"Label:\"+str(label) +\", Prob List: \"+str([best_prob, second_prob, third_prob]), np.array([X_test[best_idx],X_test[second_idx],X_test[third_idx]]).reshape(3,28,28,1), step=0)\n",
    "            #tf.summary.image(\"Label:\"+str(label) +\", Second Prob: \"+str(second_prob), .reshape(-1,28,28,1), step=0)\n",
    "            #tf.summary.image(\"Label:\"+str(label) +\", Third Prob: \"+str(third_prob), test_images[third_idx].reshape(-1,28,28,1), step=0)\n",
    "        return\n",
    "    \n",
    "    if len(result[label]) == 2:\n",
    "        best_idx, best_prob = result[label][-1]\n",
    "        second_idx, second_prob = result[label][-2]\n",
    "        \n",
    "        best_prob = round(best_prob, 3)\n",
    "        second_prob = round(second_prob, 3)\n",
    "        \n",
    "        log_dir = \"C:/Users/MSI/logs/3-layer_CNN-without-framework/for_report/images\"\n",
    "        file_writer = tf.summary.create_file_writer(log_dir)\n",
    "\n",
    "        fig = plt.figure()\n",
    "\n",
    "        ax1 = fig.add_subplot(1, 3, 1)\n",
    "        ax1.imshow(X_test[best_idx], cmap=\"gray\")\n",
    "        ax1.set_title(str(best_prob))\n",
    "        ax1.axis(\"off\")\n",
    "\n",
    "        ax2 = fig.add_subplot(1, 3, 2)\n",
    "        ax2.imshow(X_test[second_idx], cmap=\"gray\")\n",
    "        ax2.set_title(str(second_prob))\n",
    "        ax2.axis(\"off\")\n",
    "        plt.show()\n",
    "        \n",
    "        with file_writer.as_default():\n",
    "            tf.summary.image(\"Label:\"+str(label) +\", Prob List: \"+str([best_prob, second_prob]), np.array([X_test[best_idx],X_test[second_idx]]).reshape(2,28,28,1), step=0)\n",
    "            #tf.summary.image(\"Label:\"+str(label) +\", Second Prob: \"+str(second_prob), .reshape(-1,28,28,1), step=0)\n",
    "            #tf.summary.image(\"Label:\"+str(label) +\", Third Prob: \"+str(third_prob), test_images[third_idx].reshape(-1,28,28,1), step=0)\n",
    "        return\n",
    "\n",
    "    if len(result[label]) == 1:\n",
    "        best_idx, best_prob = result[label][-1]\n",
    "        best_prob = round(best_prob, 3)\n",
    "        \n",
    "        log_dir = \"C:/Users/MSI/logs/3-layer_CNN-without-framework/for_report/image\"\n",
    "        file_writer = tf.summary.create_file_writer(log_dir)\n",
    "\n",
    "        fig = plt.figure()\n",
    "\n",
    "        ax1 = fig.add_subplot(1, 3, 1)\n",
    "        ax1.imshow(X_test[best_idx], cmap=\"gray\")\n",
    "        ax1.set_title(str(best_prob))\n",
    "        ax1.axis(\"off\")\n",
    "\n",
    "        plt.show()\n",
    "        with file_writer.as_default():\n",
    "            tf.summary.image(\"Label:\"+str(label) +\", Prob List: \"+str([best_prob]), np.array([X_test[best_idx]]).reshape(1,28,28,1), step=0)\n",
    "        return\n",
    "    \n",
    "    if len(result[label]) == 0:\n",
    "        print(\"label: [\", label, \"] || No data correctly predicted\")"
   ]
  },
  {
   "cell_type": "code",
   "execution_count": 127,
   "metadata": {},
   "outputs": [
    {
     "name": "stdout",
     "output_type": "stream",
     "text": [
      "100 th data prediction done.\n",
      "200 th data prediction done.\n",
      "300 th data prediction done.\n",
      "400 th data prediction done.\n",
      "500 th data prediction done.\n",
      "600 th data prediction done.\n",
      "700 th data prediction done.\n",
      "800 th data prediction done.\n",
      "900 th data prediction done.\n",
      "1000 th data prediction done.\n",
      "1100 th data prediction done.\n",
      "1200 th data prediction done.\n",
      "1300 th data prediction done.\n",
      "1400 th data prediction done.\n",
      "1500 th data prediction done.\n",
      "1600 th data prediction done.\n",
      "1700 th data prediction done.\n",
      "1800 th data prediction done.\n",
      "1900 th data prediction done.\n",
      "2000 th data prediction done.\n",
      "2100 th data prediction done.\n",
      "2200 th data prediction done.\n",
      "2300 th data prediction done.\n",
      "2400 th data prediction done.\n",
      "2500 th data prediction done.\n",
      "2600 th data prediction done.\n",
      "2700 th data prediction done.\n",
      "2800 th data prediction done.\n",
      "2900 th data prediction done.\n",
      "3000 th data prediction done.\n",
      "3100 th data prediction done.\n",
      "3200 th data prediction done.\n",
      "3300 th data prediction done.\n",
      "3400 th data prediction done.\n",
      "3500 th data prediction done.\n",
      "3600 th data prediction done.\n",
      "3700 th data prediction done.\n",
      "3800 th data prediction done.\n",
      "3900 th data prediction done.\n",
      "4000 th data prediction done.\n",
      "4100 th data prediction done.\n",
      "4200 th data prediction done.\n",
      "4300 th data prediction done.\n",
      "4400 th data prediction done.\n",
      "4500 th data prediction done.\n",
      "4600 th data prediction done.\n",
      "4700 th data prediction done.\n",
      "4800 th data prediction done.\n",
      "4900 th data prediction done.\n",
      "5000 th data prediction done.\n",
      "5100 th data prediction done.\n",
      "5200 th data prediction done.\n",
      "5300 th data prediction done.\n",
      "5400 th data prediction done.\n",
      "5500 th data prediction done.\n",
      "5600 th data prediction done.\n",
      "5700 th data prediction done.\n",
      "5800 th data prediction done.\n",
      "5900 th data prediction done.\n",
      "6000 th data prediction done.\n",
      "6100 th data prediction done.\n",
      "6200 th data prediction done.\n",
      "6300 th data prediction done.\n",
      "6400 th data prediction done.\n",
      "6500 th data prediction done.\n",
      "6600 th data prediction done.\n",
      "6700 th data prediction done.\n",
      "6800 th data prediction done.\n",
      "6900 th data prediction done.\n",
      "7000 th data prediction done.\n",
      "7100 th data prediction done.\n",
      "7200 th data prediction done.\n",
      "7300 th data prediction done.\n",
      "7400 th data prediction done.\n",
      "7500 th data prediction done.\n",
      "7600 th data prediction done.\n",
      "7700 th data prediction done.\n",
      "7800 th data prediction done.\n",
      "7900 th data prediction done.\n",
      "8000 th data prediction done.\n",
      "8100 th data prediction done.\n",
      "8200 th data prediction done.\n",
      "8300 th data prediction done.\n",
      "8400 th data prediction done.\n",
      "8500 th data prediction done.\n",
      "8600 th data prediction done.\n",
      "8700 th data prediction done.\n",
      "8800 th data prediction done.\n",
      "8900 th data prediction done.\n",
      "9000 th data prediction done.\n",
      "9100 th data prediction done.\n",
      "9200 th data prediction done.\n",
      "9300 th data prediction done.\n",
      "9400 th data prediction done.\n",
      "9500 th data prediction done.\n",
      "9600 th data prediction done.\n",
      "9700 th data prediction done.\n",
      "9800 th data prediction done.\n",
      "9900 th data prediction done.\n",
      "10000 th data prediction done.\n"
     ]
    }
   ],
   "source": [
    "result = []\n",
    "for i in range(10):\n",
    "    result.append([])\n",
    "\n",
    "predict_result = predict(Conv_3_layer_Model, X_test)"
   ]
  },
  {
   "cell_type": "code",
   "execution_count": 128,
   "metadata": {},
   "outputs": [],
   "source": [
    "for i in range(len(X_test)):\n",
    "    if Y_test[i] == list(predict_result[i]).index(max(predict_result[i])):\n",
    "        result[Y_test[i]].append((i, round(max(predict_result[i]), 3)*100))\n",
    "\n",
    "for i in range(len(result)):\n",
    "    result[i].sort(key=lambda x:x[1])"
   ]
  },
  {
   "cell_type": "code",
   "execution_count": 140,
   "metadata": {},
   "outputs": [
    {
     "data": {
      "image/png": "[encoded data removed]",
      "text/plain": [
       "<Figure size 432x288 with 3 Axes>"
      ]
     },
     "metadata": {
      "needs_background": "light"
     },
     "output_type": "display_data"
    },
    {
     "data": {
      "image/png": "[encoded data removed]",
      "text/plain": [
       "<Figure size 432x288 with 3 Axes>"
      ]
     },
     "metadata": {
      "needs_background": "light"
     },
     "output_type": "display_data"
    },
    {
     "name": "stdout",
     "output_type": "stream",
     "text": [
      "label: [ 2 ] || No data correctly predicted\n"
     ]
    },
    {
     "data": {
      "image/png": "[encoded data removed]",
      "text/plain": [
       "<Figure size 432x288 with 3 Axes>"
      ]
     },
     "metadata": {
      "needs_background": "light"
     },
     "output_type": "display_data"
    },
    {
     "data": {
      "image/png": "[encoded data removed]",
      "text/plain": [
       "<Figure size 432x288 with 3 Axes>"
      ]
     },
     "metadata": {
      "needs_background": "light"
     },
     "output_type": "display_data"
    },
    {
     "data": {
      "image/png": "[encoded data removed]",
      "text/plain": [
       "<Figure size 432x288 with 1 Axes>"
      ]
     },
     "metadata": {
      "needs_background": "light"
     },
     "output_type": "display_data"
    },
    {
     "data": {
      "image/png": "[encoded data removed]",
      "text/plain": [
       "<Figure size 432x288 with 3 Axes>"
      ]
     },
     "metadata": {
      "needs_background": "light"
     },
     "output_type": "display_data"
    },
    {
     "data": {
      "image/png": "[encoded data removed]",
      "text/plain": [
       "<Figure size 432x288 with 3 Axes>"
      ]
     },
     "metadata": {
      "needs_background": "light"
     },
     "output_type": "display_data"
    },
    {
     "name": "stdout",
     "output_type": "stream",
     "text": [
      "label: [ 8 ] || No data correctly predicted\n"
     ]
    },
    {
     "data": {
      "image/png": "[encoded data removed]",
      "text/plain": [
       "<Figure size 432x288 with 3 Axes>"
      ]
     },
     "metadata": {
      "needs_background": "light"
     },
     "output_type": "display_data"
    }
   ],
   "source": [
    "vis_top3_img_to_tensorboard(result, 0)\n",
    "vis_top3_img_to_tensorboard(result, 1)\n",
    "vis_top3_img_to_tensorboard(result, 2)\n",
    "vis_top3_img_to_tensorboard(result, 3)\n",
    "vis_top3_img_to_tensorboard(result, 4)\n",
    "vis_top3_img_to_tensorboard(result, 5)\n",
    "vis_top3_img_to_tensorboard(result, 6)\n",
    "vis_top3_img_to_tensorboard(result, 7)\n",
    "vis_top3_img_to_tensorboard(result, 8)\n",
    "vis_top3_img_to_tensorboard(result, 9)"
   ]
  },
  {
   "cell_type": "code",
   "execution_count": 147,
   "metadata": {},
   "outputs": [
    {
     "data": {
      "image/png": "[encoded data removed]",
      "text/plain": [
       "<Figure size 432x288 with 1 Axes>"
      ]
     },
     "metadata": {
      "needs_background": "light"
     },
     "output_type": "display_data"
    }
   ],
   "source": [
    "vis_top3_img_to_tensorboard(result, 5)"
   ]
  },
  {
   "cell_type": "markdown",
   "metadata": {},
   "source": [
    "# CAM (Class Activation Map)\n",
    "reference: https://github.com/jacobgil/keras-cam"
   ]
  },
  {
   "cell_type": "code",
   "execution_count": 155,
   "metadata": {},
   "outputs": [],
   "source": [
    "import cv2\n",
    "\n",
    "def vis_CAM(model, img):\n",
    "    model = model\n",
    "    img = np.float32(img)\n",
    "    original_img = img\n",
    "    print(img.shape)\n",
    "    class_weights = model.model[-1].get_weights().reshape(10, 10)\n",
    "    conv_outputs = model.last_activation_map(img)\n",
    "    cam = np.zeros(dtype = np.float32, shape = (3, 3))\n",
    "    \n",
    "    for i, w in enumerate(list(class_weights[0])):\n",
    "        cam += w * conv_outputs[i, :, :]    \n",
    "        \n",
    "    cam /= np.max(cam)\n",
    "    \n",
    "    cam_resize = cv2.resize(cam, (28, 28))\n",
    "    \n",
    "    heatmap = cv2.applyColorMap(np.uint8(255*cam), cv2.COLORMAP_JET)\n",
    "    heatmap_resize = cv2.applyColorMap(np.uint8(255*cam_resize), cv2.COLORMAP_JET)\n",
    "    \n",
    "    heatmap = cv2.cvtColor(heatmap, cv2.COLOR_BGR2RGB)\n",
    "    heatmap_resize = cv2.cvtColor(heatmap_resize, cv2.COLOR_BGR2RGB)\n",
    "    \n",
    "    img = heatmap_resize*0.5 + original_img\n",
    "\n",
    "    fig = plt.figure()\n",
    "    \n",
    "    ax1 = fig.add_subplot(1, 3, 1)\n",
    "    ax1.imshow(original_img[0], cmap=\"gray\")\n",
    "    ax1.set_title('original')\n",
    "    ax1.axis(\"off\")\n",
    "\n",
    "    ax2 = fig.add_subplot(1, 3, 2)\n",
    "    ax2.imshow(heatmap)\n",
    "    ax2.set_title('cam')\n",
    "    ax2.axis(\"off\")\n",
    "\n",
    "    ax3 = fig.add_subplot(1, 3, 3)\n",
    "    ax3.imshow(img[0])\n",
    "    ax3.set_title('resize and overlap')\n",
    "    ax3.axis(\"off\")\n",
    "\n",
    "    plt.show()"
   ]
  },
  {
   "cell_type": "code",
   "execution_count": 156,
   "metadata": {},
   "outputs": [
    {
     "name": "stderr",
     "output_type": "stream",
     "text": [
      "Clipping input data to the valid range for imshow with RGB data ([0..1] for floats or [0..255] for integers).\n"
     ]
    },
    {
     "name": "stdout",
     "output_type": "stream",
     "text": [
      "(1, 28, 28, 1)\n",
      "input.shape (10, 3, 3)\n"
     ]
    },
    {
     "data": {
      "image/png": "[encoded data removed]",
      "text/plain": [
       "<Figure size 432x288 with 3 Axes>"
      ]
     },
     "metadata": {
      "needs_background": "light"
     },
     "output_type": "display_data"
    }
   ],
   "source": [
    "vis_CAM(Conv_3_layer_Model, X_test[0:1])"
   ]
  },
  {
   "cell_type": "markdown",
   "metadata": {},
   "source": [
    "## for Report"
   ]
  },
  {
   "cell_type": "code",
   "execution_count": 157,
   "metadata": {},
   "outputs": [
    {
     "data": {
      "text/plain": [
       "<AxesSubplot:>"
      ]
     },
     "execution_count": 157,
     "metadata": {},
     "output_type": "execute_result"
    },
    {
     "data": {
      "image/png": "[encoded data removed]",
      "text/plain": [
       "<Figure size 432x288 with 2 Axes>"
      ]
     },
     "metadata": {
      "needs_background": "light"
     },
     "output_type": "display_data"
    }
   ],
   "source": [
    "from sklearn.metrics import confusion_matrix\n",
    "import seaborn as sn\n",
    "\n",
    "prob_list = predict_result\n",
    "pred_list =[]\n",
    "for i in range(len(X_test)):\n",
    "    pred_list.append(list(prob_list[i]).index(max(prob_list[i])))\n",
    "\n",
    "result = confusion_matrix(pred_list, Y_test, normalize=\"pred\")\n",
    "sn.heatmap(result, annot=True, fmt='.2f', cmap=\"Blues\")"
   ]
  }
 ],
 "metadata": {
  "kernelspec": {
   "display_name": "Python 3",
   "language": "python",
   "name": "python3"
  },
  "language_info": {
   "codemirror_mode": {
    "name": "ipython",
    "version": 3
   },
   "file_extension": ".py",
   "mimetype": "text/x-python",
   "name": "python",
   "nbconvert_exporter": "python",
   "pygments_lexer": "ipython3",
   "version": "3.7.9"
  }
 },
 "nbformat": 4,
 "nbformat_minor": 4
}
